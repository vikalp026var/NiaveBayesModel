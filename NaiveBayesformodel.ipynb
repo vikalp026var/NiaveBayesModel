{
 "cells": [
  {
   "cell_type": "code",
   "execution_count": 1,
   "id": "9acebc1c",
   "metadata": {},
   "outputs": [],
   "source": [
    "import numpy as np \n",
    "import pandas as pd \n",
    "import seaborn as sns \n",
    "from sklearn.datasets import load_iris\n",
    "from sklearn.metrics import accuracy_score,classification_report\n",
    "from sklearn.preprocessing import StandardScaler,OneHotEncoder ,LabelEncoder\n",
    "from sklearn.model_selection import train_test_split\n",
    "from sklearn.naive_bayes import GaussianNB\n",
    "import matplotlib.pyplot as plt\n",
    "%matplotlib inline"
   ]
  },
  {
   "cell_type": "code",
   "execution_count": 2,
   "id": "04edd480",
   "metadata": {},
   "outputs": [],
   "source": [
    "df=pd.read_csv('iris.csv')"
   ]
  },
  {
   "cell_type": "code",
   "execution_count": 3,
   "id": "b7b9a4a3",
   "metadata": {},
   "outputs": [
    {
     "data": {
      "text/html": [
       "<div>\n",
       "<style scoped>\n",
       "    .dataframe tbody tr th:only-of-type {\n",
       "        vertical-align: middle;\n",
       "    }\n",
       "\n",
       "    .dataframe tbody tr th {\n",
       "        vertical-align: top;\n",
       "    }\n",
       "\n",
       "    .dataframe thead th {\n",
       "        text-align: right;\n",
       "    }\n",
       "</style>\n",
       "<table border=\"1\" class=\"dataframe\">\n",
       "  <thead>\n",
       "    <tr style=\"text-align: right;\">\n",
       "      <th></th>\n",
       "      <th>sepal_length</th>\n",
       "      <th>sepal_width</th>\n",
       "      <th>petal_length</th>\n",
       "      <th>petal_width</th>\n",
       "      <th>species</th>\n",
       "    </tr>\n",
       "  </thead>\n",
       "  <tbody>\n",
       "    <tr>\n",
       "      <th>0</th>\n",
       "      <td>5.1</td>\n",
       "      <td>3.5</td>\n",
       "      <td>1.4</td>\n",
       "      <td>0.2</td>\n",
       "      <td>setosa</td>\n",
       "    </tr>\n",
       "    <tr>\n",
       "      <th>1</th>\n",
       "      <td>4.9</td>\n",
       "      <td>3.0</td>\n",
       "      <td>1.4</td>\n",
       "      <td>0.2</td>\n",
       "      <td>setosa</td>\n",
       "    </tr>\n",
       "    <tr>\n",
       "      <th>2</th>\n",
       "      <td>4.7</td>\n",
       "      <td>3.2</td>\n",
       "      <td>1.3</td>\n",
       "      <td>0.2</td>\n",
       "      <td>setosa</td>\n",
       "    </tr>\n",
       "    <tr>\n",
       "      <th>3</th>\n",
       "      <td>4.6</td>\n",
       "      <td>3.1</td>\n",
       "      <td>1.5</td>\n",
       "      <td>0.2</td>\n",
       "      <td>setosa</td>\n",
       "    </tr>\n",
       "    <tr>\n",
       "      <th>4</th>\n",
       "      <td>5.0</td>\n",
       "      <td>3.6</td>\n",
       "      <td>1.4</td>\n",
       "      <td>0.2</td>\n",
       "      <td>setosa</td>\n",
       "    </tr>\n",
       "    <tr>\n",
       "      <th>...</th>\n",
       "      <td>...</td>\n",
       "      <td>...</td>\n",
       "      <td>...</td>\n",
       "      <td>...</td>\n",
       "      <td>...</td>\n",
       "    </tr>\n",
       "    <tr>\n",
       "      <th>145</th>\n",
       "      <td>6.7</td>\n",
       "      <td>3.0</td>\n",
       "      <td>5.2</td>\n",
       "      <td>2.3</td>\n",
       "      <td>virginica</td>\n",
       "    </tr>\n",
       "    <tr>\n",
       "      <th>146</th>\n",
       "      <td>6.3</td>\n",
       "      <td>2.5</td>\n",
       "      <td>5.0</td>\n",
       "      <td>1.9</td>\n",
       "      <td>virginica</td>\n",
       "    </tr>\n",
       "    <tr>\n",
       "      <th>147</th>\n",
       "      <td>6.5</td>\n",
       "      <td>3.0</td>\n",
       "      <td>5.2</td>\n",
       "      <td>2.0</td>\n",
       "      <td>virginica</td>\n",
       "    </tr>\n",
       "    <tr>\n",
       "      <th>148</th>\n",
       "      <td>6.2</td>\n",
       "      <td>3.4</td>\n",
       "      <td>5.4</td>\n",
       "      <td>2.3</td>\n",
       "      <td>virginica</td>\n",
       "    </tr>\n",
       "    <tr>\n",
       "      <th>149</th>\n",
       "      <td>5.9</td>\n",
       "      <td>3.0</td>\n",
       "      <td>5.1</td>\n",
       "      <td>1.8</td>\n",
       "      <td>virginica</td>\n",
       "    </tr>\n",
       "  </tbody>\n",
       "</table>\n",
       "<p>150 rows × 5 columns</p>\n",
       "</div>"
      ],
      "text/plain": [
       "     sepal_length  sepal_width  petal_length  petal_width    species\n",
       "0             5.1          3.5           1.4          0.2     setosa\n",
       "1             4.9          3.0           1.4          0.2     setosa\n",
       "2             4.7          3.2           1.3          0.2     setosa\n",
       "3             4.6          3.1           1.5          0.2     setosa\n",
       "4             5.0          3.6           1.4          0.2     setosa\n",
       "..            ...          ...           ...          ...        ...\n",
       "145           6.7          3.0           5.2          2.3  virginica\n",
       "146           6.3          2.5           5.0          1.9  virginica\n",
       "147           6.5          3.0           5.2          2.0  virginica\n",
       "148           6.2          3.4           5.4          2.3  virginica\n",
       "149           5.9          3.0           5.1          1.8  virginica\n",
       "\n",
       "[150 rows x 5 columns]"
      ]
     },
     "execution_count": 3,
     "metadata": {},
     "output_type": "execute_result"
    }
   ],
   "source": [
    "df"
   ]
  },
  {
   "cell_type": "code",
   "execution_count": 4,
   "id": "9a57d519",
   "metadata": {},
   "outputs": [
    {
     "data": {
      "text/plain": [
       "sepal_length    0\n",
       "sepal_width     0\n",
       "petal_length    0\n",
       "petal_width     0\n",
       "species         0\n",
       "dtype: int64"
      ]
     },
     "execution_count": 4,
     "metadata": {},
     "output_type": "execute_result"
    }
   ],
   "source": [
    "df.isnull().sum()"
   ]
  },
  {
   "cell_type": "code",
   "execution_count": 5,
   "id": "988b5982",
   "metadata": {},
   "outputs": [
    {
     "data": {
      "text/plain": [
       "sepal_length    float64\n",
       "sepal_width     float64\n",
       "petal_length    float64\n",
       "petal_width     float64\n",
       "species          object\n",
       "dtype: object"
      ]
     },
     "execution_count": 5,
     "metadata": {},
     "output_type": "execute_result"
    }
   ],
   "source": [
    "df.dtypes"
   ]
  },
  {
   "cell_type": "code",
   "execution_count": 6,
   "id": "062d6a93",
   "metadata": {},
   "outputs": [
    {
     "data": {
      "text/html": [
       "<div>\n",
       "<style scoped>\n",
       "    .dataframe tbody tr th:only-of-type {\n",
       "        vertical-align: middle;\n",
       "    }\n",
       "\n",
       "    .dataframe tbody tr th {\n",
       "        vertical-align: top;\n",
       "    }\n",
       "\n",
       "    .dataframe thead th {\n",
       "        text-align: right;\n",
       "    }\n",
       "</style>\n",
       "<table border=\"1\" class=\"dataframe\">\n",
       "  <thead>\n",
       "    <tr style=\"text-align: right;\">\n",
       "      <th></th>\n",
       "      <th>sepal_length</th>\n",
       "      <th>sepal_width</th>\n",
       "      <th>petal_length</th>\n",
       "      <th>petal_width</th>\n",
       "    </tr>\n",
       "  </thead>\n",
       "  <tbody>\n",
       "    <tr>\n",
       "      <th>count</th>\n",
       "      <td>150.000000</td>\n",
       "      <td>150.000000</td>\n",
       "      <td>150.000000</td>\n",
       "      <td>150.000000</td>\n",
       "    </tr>\n",
       "    <tr>\n",
       "      <th>mean</th>\n",
       "      <td>5.843333</td>\n",
       "      <td>3.054000</td>\n",
       "      <td>3.758667</td>\n",
       "      <td>1.198667</td>\n",
       "    </tr>\n",
       "    <tr>\n",
       "      <th>std</th>\n",
       "      <td>0.828066</td>\n",
       "      <td>0.433594</td>\n",
       "      <td>1.764420</td>\n",
       "      <td>0.763161</td>\n",
       "    </tr>\n",
       "    <tr>\n",
       "      <th>min</th>\n",
       "      <td>4.300000</td>\n",
       "      <td>2.000000</td>\n",
       "      <td>1.000000</td>\n",
       "      <td>0.100000</td>\n",
       "    </tr>\n",
       "    <tr>\n",
       "      <th>25%</th>\n",
       "      <td>5.100000</td>\n",
       "      <td>2.800000</td>\n",
       "      <td>1.600000</td>\n",
       "      <td>0.300000</td>\n",
       "    </tr>\n",
       "    <tr>\n",
       "      <th>50%</th>\n",
       "      <td>5.800000</td>\n",
       "      <td>3.000000</td>\n",
       "      <td>4.350000</td>\n",
       "      <td>1.300000</td>\n",
       "    </tr>\n",
       "    <tr>\n",
       "      <th>75%</th>\n",
       "      <td>6.400000</td>\n",
       "      <td>3.300000</td>\n",
       "      <td>5.100000</td>\n",
       "      <td>1.800000</td>\n",
       "    </tr>\n",
       "    <tr>\n",
       "      <th>max</th>\n",
       "      <td>7.900000</td>\n",
       "      <td>4.400000</td>\n",
       "      <td>6.900000</td>\n",
       "      <td>2.500000</td>\n",
       "    </tr>\n",
       "  </tbody>\n",
       "</table>\n",
       "</div>"
      ],
      "text/plain": [
       "       sepal_length  sepal_width  petal_length  petal_width\n",
       "count    150.000000   150.000000    150.000000   150.000000\n",
       "mean       5.843333     3.054000      3.758667     1.198667\n",
       "std        0.828066     0.433594      1.764420     0.763161\n",
       "min        4.300000     2.000000      1.000000     0.100000\n",
       "25%        5.100000     2.800000      1.600000     0.300000\n",
       "50%        5.800000     3.000000      4.350000     1.300000\n",
       "75%        6.400000     3.300000      5.100000     1.800000\n",
       "max        7.900000     4.400000      6.900000     2.500000"
      ]
     },
     "execution_count": 6,
     "metadata": {},
     "output_type": "execute_result"
    }
   ],
   "source": [
    "df.describe()"
   ]
  },
  {
   "cell_type": "code",
   "execution_count": 7,
   "id": "bb5c7fad",
   "metadata": {},
   "outputs": [],
   "source": [
    "X=df.iloc[:,:-1].values"
   ]
  },
  {
   "cell_type": "code",
   "execution_count": 8,
   "id": "7b96bf34",
   "metadata": {},
   "outputs": [
    {
     "data": {
      "text/plain": [
       "array([[5.1, 3.5, 1.4, 0.2],\n",
       "       [4.9, 3. , 1.4, 0.2],\n",
       "       [4.7, 3.2, 1.3, 0.2],\n",
       "       [4.6, 3.1, 1.5, 0.2],\n",
       "       [5. , 3.6, 1.4, 0.2],\n",
       "       [5.4, 3.9, 1.7, 0.4],\n",
       "       [4.6, 3.4, 1.4, 0.3],\n",
       "       [5. , 3.4, 1.5, 0.2],\n",
       "       [4.4, 2.9, 1.4, 0.2],\n",
       "       [4.9, 3.1, 1.5, 0.1],\n",
       "       [5.4, 3.7, 1.5, 0.2],\n",
       "       [4.8, 3.4, 1.6, 0.2],\n",
       "       [4.8, 3. , 1.4, 0.1],\n",
       "       [4.3, 3. , 1.1, 0.1],\n",
       "       [5.8, 4. , 1.2, 0.2],\n",
       "       [5.7, 4.4, 1.5, 0.4],\n",
       "       [5.4, 3.9, 1.3, 0.4],\n",
       "       [5.1, 3.5, 1.4, 0.3],\n",
       "       [5.7, 3.8, 1.7, 0.3],\n",
       "       [5.1, 3.8, 1.5, 0.3],\n",
       "       [5.4, 3.4, 1.7, 0.2],\n",
       "       [5.1, 3.7, 1.5, 0.4],\n",
       "       [4.6, 3.6, 1. , 0.2],\n",
       "       [5.1, 3.3, 1.7, 0.5],\n",
       "       [4.8, 3.4, 1.9, 0.2],\n",
       "       [5. , 3. , 1.6, 0.2],\n",
       "       [5. , 3.4, 1.6, 0.4],\n",
       "       [5.2, 3.5, 1.5, 0.2],\n",
       "       [5.2, 3.4, 1.4, 0.2],\n",
       "       [4.7, 3.2, 1.6, 0.2],\n",
       "       [4.8, 3.1, 1.6, 0.2],\n",
       "       [5.4, 3.4, 1.5, 0.4],\n",
       "       [5.2, 4.1, 1.5, 0.1],\n",
       "       [5.5, 4.2, 1.4, 0.2],\n",
       "       [4.9, 3.1, 1.5, 0.1],\n",
       "       [5. , 3.2, 1.2, 0.2],\n",
       "       [5.5, 3.5, 1.3, 0.2],\n",
       "       [4.9, 3.1, 1.5, 0.1],\n",
       "       [4.4, 3. , 1.3, 0.2],\n",
       "       [5.1, 3.4, 1.5, 0.2],\n",
       "       [5. , 3.5, 1.3, 0.3],\n",
       "       [4.5, 2.3, 1.3, 0.3],\n",
       "       [4.4, 3.2, 1.3, 0.2],\n",
       "       [5. , 3.5, 1.6, 0.6],\n",
       "       [5.1, 3.8, 1.9, 0.4],\n",
       "       [4.8, 3. , 1.4, 0.3],\n",
       "       [5.1, 3.8, 1.6, 0.2],\n",
       "       [4.6, 3.2, 1.4, 0.2],\n",
       "       [5.3, 3.7, 1.5, 0.2],\n",
       "       [5. , 3.3, 1.4, 0.2],\n",
       "       [7. , 3.2, 4.7, 1.4],\n",
       "       [6.4, 3.2, 4.5, 1.5],\n",
       "       [6.9, 3.1, 4.9, 1.5],\n",
       "       [5.5, 2.3, 4. , 1.3],\n",
       "       [6.5, 2.8, 4.6, 1.5],\n",
       "       [5.7, 2.8, 4.5, 1.3],\n",
       "       [6.3, 3.3, 4.7, 1.6],\n",
       "       [4.9, 2.4, 3.3, 1. ],\n",
       "       [6.6, 2.9, 4.6, 1.3],\n",
       "       [5.2, 2.7, 3.9, 1.4],\n",
       "       [5. , 2. , 3.5, 1. ],\n",
       "       [5.9, 3. , 4.2, 1.5],\n",
       "       [6. , 2.2, 4. , 1. ],\n",
       "       [6.1, 2.9, 4.7, 1.4],\n",
       "       [5.6, 2.9, 3.6, 1.3],\n",
       "       [6.7, 3.1, 4.4, 1.4],\n",
       "       [5.6, 3. , 4.5, 1.5],\n",
       "       [5.8, 2.7, 4.1, 1. ],\n",
       "       [6.2, 2.2, 4.5, 1.5],\n",
       "       [5.6, 2.5, 3.9, 1.1],\n",
       "       [5.9, 3.2, 4.8, 1.8],\n",
       "       [6.1, 2.8, 4. , 1.3],\n",
       "       [6.3, 2.5, 4.9, 1.5],\n",
       "       [6.1, 2.8, 4.7, 1.2],\n",
       "       [6.4, 2.9, 4.3, 1.3],\n",
       "       [6.6, 3. , 4.4, 1.4],\n",
       "       [6.8, 2.8, 4.8, 1.4],\n",
       "       [6.7, 3. , 5. , 1.7],\n",
       "       [6. , 2.9, 4.5, 1.5],\n",
       "       [5.7, 2.6, 3.5, 1. ],\n",
       "       [5.5, 2.4, 3.8, 1.1],\n",
       "       [5.5, 2.4, 3.7, 1. ],\n",
       "       [5.8, 2.7, 3.9, 1.2],\n",
       "       [6. , 2.7, 5.1, 1.6],\n",
       "       [5.4, 3. , 4.5, 1.5],\n",
       "       [6. , 3.4, 4.5, 1.6],\n",
       "       [6.7, 3.1, 4.7, 1.5],\n",
       "       [6.3, 2.3, 4.4, 1.3],\n",
       "       [5.6, 3. , 4.1, 1.3],\n",
       "       [5.5, 2.5, 4. , 1.3],\n",
       "       [5.5, 2.6, 4.4, 1.2],\n",
       "       [6.1, 3. , 4.6, 1.4],\n",
       "       [5.8, 2.6, 4. , 1.2],\n",
       "       [5. , 2.3, 3.3, 1. ],\n",
       "       [5.6, 2.7, 4.2, 1.3],\n",
       "       [5.7, 3. , 4.2, 1.2],\n",
       "       [5.7, 2.9, 4.2, 1.3],\n",
       "       [6.2, 2.9, 4.3, 1.3],\n",
       "       [5.1, 2.5, 3. , 1.1],\n",
       "       [5.7, 2.8, 4.1, 1.3],\n",
       "       [6.3, 3.3, 6. , 2.5],\n",
       "       [5.8, 2.7, 5.1, 1.9],\n",
       "       [7.1, 3. , 5.9, 2.1],\n",
       "       [6.3, 2.9, 5.6, 1.8],\n",
       "       [6.5, 3. , 5.8, 2.2],\n",
       "       [7.6, 3. , 6.6, 2.1],\n",
       "       [4.9, 2.5, 4.5, 1.7],\n",
       "       [7.3, 2.9, 6.3, 1.8],\n",
       "       [6.7, 2.5, 5.8, 1.8],\n",
       "       [7.2, 3.6, 6.1, 2.5],\n",
       "       [6.5, 3.2, 5.1, 2. ],\n",
       "       [6.4, 2.7, 5.3, 1.9],\n",
       "       [6.8, 3. , 5.5, 2.1],\n",
       "       [5.7, 2.5, 5. , 2. ],\n",
       "       [5.8, 2.8, 5.1, 2.4],\n",
       "       [6.4, 3.2, 5.3, 2.3],\n",
       "       [6.5, 3. , 5.5, 1.8],\n",
       "       [7.7, 3.8, 6.7, 2.2],\n",
       "       [7.7, 2.6, 6.9, 2.3],\n",
       "       [6. , 2.2, 5. , 1.5],\n",
       "       [6.9, 3.2, 5.7, 2.3],\n",
       "       [5.6, 2.8, 4.9, 2. ],\n",
       "       [7.7, 2.8, 6.7, 2. ],\n",
       "       [6.3, 2.7, 4.9, 1.8],\n",
       "       [6.7, 3.3, 5.7, 2.1],\n",
       "       [7.2, 3.2, 6. , 1.8],\n",
       "       [6.2, 2.8, 4.8, 1.8],\n",
       "       [6.1, 3. , 4.9, 1.8],\n",
       "       [6.4, 2.8, 5.6, 2.1],\n",
       "       [7.2, 3. , 5.8, 1.6],\n",
       "       [7.4, 2.8, 6.1, 1.9],\n",
       "       [7.9, 3.8, 6.4, 2. ],\n",
       "       [6.4, 2.8, 5.6, 2.2],\n",
       "       [6.3, 2.8, 5.1, 1.5],\n",
       "       [6.1, 2.6, 5.6, 1.4],\n",
       "       [7.7, 3. , 6.1, 2.3],\n",
       "       [6.3, 3.4, 5.6, 2.4],\n",
       "       [6.4, 3.1, 5.5, 1.8],\n",
       "       [6. , 3. , 4.8, 1.8],\n",
       "       [6.9, 3.1, 5.4, 2.1],\n",
       "       [6.7, 3.1, 5.6, 2.4],\n",
       "       [6.9, 3.1, 5.1, 2.3],\n",
       "       [5.8, 2.7, 5.1, 1.9],\n",
       "       [6.8, 3.2, 5.9, 2.3],\n",
       "       [6.7, 3.3, 5.7, 2.5],\n",
       "       [6.7, 3. , 5.2, 2.3],\n",
       "       [6.3, 2.5, 5. , 1.9],\n",
       "       [6.5, 3. , 5.2, 2. ],\n",
       "       [6.2, 3.4, 5.4, 2.3],\n",
       "       [5.9, 3. , 5.1, 1.8]])"
      ]
     },
     "execution_count": 8,
     "metadata": {},
     "output_type": "execute_result"
    }
   ],
   "source": [
    "X"
   ]
  },
  {
   "cell_type": "code",
   "execution_count": 9,
   "id": "2362af45",
   "metadata": {},
   "outputs": [],
   "source": [
    "y=df['species'].values"
   ]
  },
  {
   "cell_type": "code",
   "execution_count": 10,
   "id": "84be15ab",
   "metadata": {},
   "outputs": [
    {
     "data": {
      "text/plain": [
       "array(['setosa', 'setosa', 'setosa', 'setosa', 'setosa', 'setosa',\n",
       "       'setosa', 'setosa', 'setosa', 'setosa', 'setosa', 'setosa',\n",
       "       'setosa', 'setosa', 'setosa', 'setosa', 'setosa', 'setosa',\n",
       "       'setosa', 'setosa', 'setosa', 'setosa', 'setosa', 'setosa',\n",
       "       'setosa', 'setosa', 'setosa', 'setosa', 'setosa', 'setosa',\n",
       "       'setosa', 'setosa', 'setosa', 'setosa', 'setosa', 'setosa',\n",
       "       'setosa', 'setosa', 'setosa', 'setosa', 'setosa', 'setosa',\n",
       "       'setosa', 'setosa', 'setosa', 'setosa', 'setosa', 'setosa',\n",
       "       'setosa', 'setosa', 'versicolor', 'versicolor', 'versicolor',\n",
       "       'versicolor', 'versicolor', 'versicolor', 'versicolor',\n",
       "       'versicolor', 'versicolor', 'versicolor', 'versicolor',\n",
       "       'versicolor', 'versicolor', 'versicolor', 'versicolor',\n",
       "       'versicolor', 'versicolor', 'versicolor', 'versicolor',\n",
       "       'versicolor', 'versicolor', 'versicolor', 'versicolor',\n",
       "       'versicolor', 'versicolor', 'versicolor', 'versicolor',\n",
       "       'versicolor', 'versicolor', 'versicolor', 'versicolor',\n",
       "       'versicolor', 'versicolor', 'versicolor', 'versicolor',\n",
       "       'versicolor', 'versicolor', 'versicolor', 'versicolor',\n",
       "       'versicolor', 'versicolor', 'versicolor', 'versicolor',\n",
       "       'versicolor', 'versicolor', 'versicolor', 'versicolor',\n",
       "       'versicolor', 'versicolor', 'versicolor', 'virginica', 'virginica',\n",
       "       'virginica', 'virginica', 'virginica', 'virginica', 'virginica',\n",
       "       'virginica', 'virginica', 'virginica', 'virginica', 'virginica',\n",
       "       'virginica', 'virginica', 'virginica', 'virginica', 'virginica',\n",
       "       'virginica', 'virginica', 'virginica', 'virginica', 'virginica',\n",
       "       'virginica', 'virginica', 'virginica', 'virginica', 'virginica',\n",
       "       'virginica', 'virginica', 'virginica', 'virginica', 'virginica',\n",
       "       'virginica', 'virginica', 'virginica', 'virginica', 'virginica',\n",
       "       'virginica', 'virginica', 'virginica', 'virginica', 'virginica',\n",
       "       'virginica', 'virginica', 'virginica', 'virginica', 'virginica',\n",
       "       'virginica', 'virginica', 'virginica'], dtype=object)"
      ]
     },
     "execution_count": 10,
     "metadata": {},
     "output_type": "execute_result"
    }
   ],
   "source": [
    "y"
   ]
  },
  {
   "cell_type": "code",
   "execution_count": 11,
   "id": "6c784220",
   "metadata": {},
   "outputs": [
    {
     "data": {
      "text/plain": [
       "((150, 4), (150,))"
      ]
     },
     "execution_count": 11,
     "metadata": {},
     "output_type": "execute_result"
    }
   ],
   "source": [
    "X.shape,y.shape"
   ]
  },
  {
   "cell_type": "code",
   "execution_count": 12,
   "id": "fae14a50",
   "metadata": {},
   "outputs": [],
   "source": [
    "X_train,X_test,y_train,y_test=train_test_split(X,y,test_size=0.15,random_state=42)"
   ]
  },
  {
   "cell_type": "code",
   "execution_count": 13,
   "id": "0fde119c",
   "metadata": {},
   "outputs": [
    {
     "data": {
      "text/plain": [
       "(127, 4)"
      ]
     },
     "execution_count": 13,
     "metadata": {},
     "output_type": "execute_result"
    }
   ],
   "source": [
    "X_train.shape"
   ]
  },
  {
   "cell_type": "code",
   "execution_count": 14,
   "id": "8e892caf",
   "metadata": {},
   "outputs": [
    {
     "data": {
      "text/plain": [
       "(23, 4)"
      ]
     },
     "execution_count": 14,
     "metadata": {},
     "output_type": "execute_result"
    }
   ],
   "source": [
    "X_test.shape"
   ]
  },
  {
   "cell_type": "code",
   "execution_count": 15,
   "id": "e78c618c",
   "metadata": {},
   "outputs": [],
   "source": [
    "scale=StandardScaler()"
   ]
  },
  {
   "cell_type": "code",
   "execution_count": 16,
   "id": "e979fd6f",
   "metadata": {},
   "outputs": [],
   "source": [
    "X_train_scale=scale.fit_transform(X_train)"
   ]
  },
  {
   "cell_type": "code",
   "execution_count": 17,
   "id": "f63d003a",
   "metadata": {},
   "outputs": [
    {
     "data": {
      "text/plain": [
       "array([[ 0.66973943, -0.58419502,  1.0339071 ,  1.17684375],\n",
       "       [ 2.45165787,  1.68469696,  1.48668711,  1.04550882],\n",
       "       [ 1.02612312, -0.13041663,  0.8075171 ,  1.43951363],\n",
       "       [ 1.02612312, -1.26486262,  1.14710211,  0.78283895],\n",
       "       [ 1.14491768,  0.32336177,  1.20369961,  1.43951363],\n",
       "       [-1.23097358, -0.13041663, -1.34318794, -1.18718509],\n",
       "       [-1.23097358,  0.09647257, -1.22999293, -1.31852002],\n",
       "       [-1.46856271,  1.23091856, -1.56957794, -1.31852002],\n",
       "       [-0.16182252,  3.04603215, -1.28659044, -1.05585015],\n",
       "       [ 1.02612312,  0.09647257,  0.35473709,  0.2574992 ],\n",
       "       [-1.23097358,  0.77714017, -1.22999293, -1.31852002],\n",
       "       [-1.70615184,  0.32336177, -1.39978544, -1.31852002],\n",
       "       [ 0.55094486, -1.26486262,  0.6943221 ,  0.91417388],\n",
       "       [ 0.66973943,  0.32336177,  0.41133459,  0.38883414],\n",
       "       [-0.75579533,  1.00402937, -1.28659044, -1.31852002],\n",
       "       [-0.99338446,  1.23091856, -1.34318794, -1.31852002],\n",
       "       [-0.75579533,  2.36536455, -1.28659044, -1.44985496],\n",
       "       [-0.04302795, -0.81108422,  0.7509196 ,  0.91417388],\n",
       "       [ 0.19456117,  0.77714017,  0.41133459,  0.52016908],\n",
       "       [ 1.02612312,  0.09647257,  0.5245296 ,  0.38883414],\n",
       "       [-0.5182062 ,  1.91158616, -1.39978544, -1.05585015],\n",
       "       [-0.5182062 ,  1.45780776, -1.28659044, -1.31852002],\n",
       "       [-0.39941164, -1.49175181, -0.04144541, -0.26784054],\n",
       "       [ 0.55094486, -0.58419502,  0.7509196 ,  0.38883414],\n",
       "       [ 0.66973943,  0.09647257,  0.9773096 ,  0.78283895],\n",
       "       [ 0.90732855, -0.13041663,  0.35473709,  0.2574992 ],\n",
       "       [ 1.62009593,  1.23091856,  1.31689461,  1.7021835 ],\n",
       "       [-0.16182252, -0.35730582,  0.24154209,  0.12616427],\n",
       "       [ 2.09527418, -0.13041663,  1.59988211,  1.17684375],\n",
       "       [-0.28061708, -0.13041663,  0.41133459,  0.38883414],\n",
       "       [-0.87458989,  1.00402937, -1.34318794, -1.31852002],\n",
       "       [ 2.21406875, -0.58419502,  1.65647962,  1.04550882],\n",
       "       [-0.04302795, -0.81108422,  0.18494459, -0.26784054],\n",
       "       [-0.75579533,  0.77714017, -1.34318794, -1.31852002],\n",
       "       [-0.99338446,  1.00402937, -1.39978544, -1.18718509],\n",
       "       [-0.87458989,  1.68469696, -1.06020043, -1.05585015],\n",
       "       [-0.99338446, -2.39930861, -0.15464042, -0.26784054],\n",
       "       [ 0.55094486, -0.81108422,  0.6377246 ,  0.78283895],\n",
       "       [-1.23097358,  0.77714017, -1.06020043, -1.31852002],\n",
       "       [-0.99338446, -0.13041663, -1.22999293, -1.31852002],\n",
       "       [-0.87458989,  0.55025097, -1.17339543, -0.92451522],\n",
       "       [-0.28061708, -0.81108422,  0.24154209,  0.12616427],\n",
       "       [-0.87458989,  0.77714017, -1.28659044, -1.31852002],\n",
       "       [-0.16182252, -0.13041663,  0.24154209, -0.00517067],\n",
       "       [ 2.21406875,  1.68469696,  1.65647962,  1.30817869],\n",
       "       [-1.46856271,  0.32336177, -1.34318794, -1.31852002],\n",
       "       [ 0.4321503 , -0.35730582,  0.29813959,  0.12616427],\n",
       "       [-0.16182252, -1.26486262,  0.6943221 ,  1.04550882],\n",
       "       [-0.39941164,  2.59225375, -1.34318794, -1.31852002],\n",
       "       [ 0.19456117, -0.13041663,  0.5811271 ,  0.78283895],\n",
       "       [-0.04302795, -0.81108422,  0.7509196 ,  0.91417388],\n",
       "       [ 0.19456117, -1.94553021,  0.12834709, -0.26784054],\n",
       "       [-0.5182062 , -0.13041663,  0.41133459,  0.38883414],\n",
       "       [ 0.4321503 ,  0.77714017,  0.9207121 ,  1.43951363],\n",
       "       [-0.39941164, -1.71864101,  0.12834709,  0.12616427],\n",
       "       [-0.5182062 ,  1.91158616, -1.17339543, -1.05585015],\n",
       "       [-0.99338446, -1.71864101, -0.26783542, -0.26784054],\n",
       "       [ 0.66973943, -0.81108422,  0.8641146 ,  0.91417388],\n",
       "       [-0.99338446,  0.55025097, -1.34318794, -1.31852002],\n",
       "       [-0.99338446,  0.32336177, -1.45638294, -1.31852002],\n",
       "       [-0.39941164, -1.49175181,  0.01515209, -0.1365056 ],\n",
       "       [ 1.02612312, -0.13041663,  0.6943221 ,  0.65150401],\n",
       "       [-1.11217902,  0.09647257, -1.28659044, -1.44985496],\n",
       "       [-0.04302795, -0.58419502,  0.7509196 ,  1.57084856],\n",
       "       [-0.99338446,  0.77714017, -1.28659044, -1.31852002],\n",
       "       [-0.99338446,  1.00402937, -1.22999293, -0.79318028],\n",
       "       [ 0.07576661,  0.32336177,  0.5811271 ,  0.78283895],\n",
       "       [-0.87458989, -1.26486262, -0.43762792, -0.1365056 ],\n",
       "       [ 1.26371224,  0.32336177,  1.09050461,  1.43951363],\n",
       "       [ 0.19456117, -0.81108422,  0.7509196 ,  0.52016908],\n",
       "       [ 0.31335574, -1.03797342,  1.0339071 ,  0.2574992 ],\n",
       "       [ 2.21406875, -0.13041663,  1.31689461,  1.43951363],\n",
       "       [-0.39941164, -1.26486262,  0.12834709,  0.12616427],\n",
       "       [-1.70615184, -0.35730582, -1.34318794, -1.31852002],\n",
       "       [-1.8249464 , -0.13041663, -1.51298044, -1.44985496],\n",
       "       [ 0.19456117, -1.94553021,  0.6943221 ,  0.38883414],\n",
       "       [ 1.62009593,  0.32336177,  1.26029711,  0.78283895],\n",
       "       [-1.46856271,  0.09647257, -1.28659044, -1.31852002],\n",
       "       [-0.87458989,  1.00402937, -1.34318794, -1.18718509],\n",
       "       [-1.70615184, -0.13041663, -1.39978544, -1.31852002],\n",
       "       [ 0.55094486, -1.26486262,  0.6377246 ,  0.38883414],\n",
       "       [ 0.55094486,  0.77714017,  1.0339071 ,  1.57084856],\n",
       "       [-1.46856271,  0.77714017, -1.34318794, -1.18718509],\n",
       "       [ 1.14491768, -0.13041663,  0.9773096 ,  1.17684375],\n",
       "       [ 0.55094486,  0.55025097,  1.26029711,  1.7021835 ],\n",
       "       [-1.34976815,  0.32336177, -1.39978544, -1.31852002],\n",
       "       [ 0.31335574, -0.35730582,  0.5245296 ,  0.2574992 ],\n",
       "       [ 0.78853399, -0.58419502,  0.46793209,  0.38883414],\n",
       "       [ 0.4321503 , -0.58419502,  0.5811271 ,  0.78283895],\n",
       "       [ 1.38250681,  0.32336177,  0.5245296 ,  0.2574992 ],\n",
       "       [ 0.66973943,  0.32336177,  0.8641146 ,  1.43951363],\n",
       "       [-0.87458989,  1.68469696, -1.22999293, -1.31852002],\n",
       "       [ 1.26371224,  0.09647257,  0.9207121 ,  1.17684375],\n",
       "       [ 0.07576661, -0.13041663,  0.24154209,  0.38883414],\n",
       "       [ 0.78853399, -0.13041663,  0.8075171 ,  1.04550882],\n",
       "       [-0.16182252, -1.03797342, -0.15464042, -0.26784054],\n",
       "       [-0.75579533, -0.81108422,  0.07174959,  0.2574992 ],\n",
       "       [ 0.31335574, -0.13041663,  0.46793209,  0.2574992 ],\n",
       "       [-1.58735727, -1.71864101, -1.39978544, -1.18718509],\n",
       "       [ 0.90732855, -0.35730582,  0.46793209,  0.12616427],\n",
       "       [-0.39941164, -1.03797342,  0.35473709, -0.00517067],\n",
       "       [-0.63700077,  1.45780776, -1.28659044, -1.31852002],\n",
       "       [-0.28061708, -0.13041663,  0.18494459,  0.12616427],\n",
       "       [ 1.73889049, -0.35730582,  1.43008961,  0.78283895],\n",
       "       [ 1.02612312,  0.55025097,  1.09050461,  1.17684375],\n",
       "       [-0.87458989,  1.45780776, -1.28659044, -1.05585015],\n",
       "       [-1.11217902, -1.49175181, -0.26783542, -0.26784054],\n",
       "       [ 1.02612312,  0.55025097,  1.09050461,  1.7021835 ],\n",
       "       [ 1.62009593, -0.13041663,  1.14710211,  0.52016908],\n",
       "       [-1.11217902,  0.09647257, -1.28659044, -1.44985496],\n",
       "       [ 1.02612312,  0.09647257,  1.0339071 ,  1.57084856],\n",
       "       [-1.11217902, -0.13041663, -1.34318794, -1.31852002],\n",
       "       [ 1.26371224,  0.09647257,  0.6377246 ,  0.38883414],\n",
       "       [ 1.85768506, -0.58419502,  1.31689461,  0.91417388],\n",
       "       [ 0.55094486, -0.35730582,  1.0339071 ,  0.78283895],\n",
       "       [-0.16182252, -0.58419502,  0.18494459,  0.12616427],\n",
       "       [ 0.78853399, -0.13041663,  0.9773096 ,  0.78283895],\n",
       "       [ 0.55094486, -1.71864101,  0.35473709,  0.12616427],\n",
       "       [ 0.66973943, -0.35730582,  0.29813959,  0.12616427],\n",
       "       [-0.28061708, -0.58419502,  0.6377246 ,  1.04550882],\n",
       "       [ 0.07576661, -0.13041663,  0.7509196 ,  0.78283895],\n",
       "       [-0.5182062 ,  0.77714017, -1.17339543, -1.31852002],\n",
       "       [ 0.31335574, -0.58419502,  0.12834709,  0.12616427],\n",
       "       [-1.11217902, -1.26486262,  0.41133459,  0.65150401],\n",
       "       [-0.04302795,  2.13847536, -1.45638294, -1.31852002],\n",
       "       [-0.04302795, -1.03797342,  0.12834709, -0.00517067],\n",
       "       [ 1.50130137, -0.13041663,  1.20369961,  1.17684375]])"
      ]
     },
     "execution_count": 17,
     "metadata": {},
     "output_type": "execute_result"
    }
   ],
   "source": [
    "X_train_scale"
   ]
  },
  {
   "cell_type": "code",
   "execution_count": 18,
   "id": "71132f0b",
   "metadata": {},
   "outputs": [],
   "source": [
    "X_test_scale=scale.transform(X_test)"
   ]
  },
  {
   "cell_type": "code",
   "execution_count": 19,
   "id": "6622492c",
   "metadata": {},
   "outputs": [
    {
     "data": {
      "text/plain": [
       "array([[ 0.31335574, -0.58419502,  0.5245296 , -0.00517067],\n",
       "       [-0.16182252,  1.68469696, -1.17339543, -1.18718509],\n",
       "       [ 2.21406875, -1.03797342,  1.76967462,  1.43951363],\n",
       "       [ 0.19456117, -0.35730582,  0.41133459,  0.38883414],\n",
       "       [ 1.14491768, -0.58419502,  0.5811271 ,  0.2574992 ],\n",
       "       [-0.5182062 ,  0.77714017, -1.28659044, -1.05585015],\n",
       "       [-0.28061708, -0.35730582, -0.09804292,  0.12616427],\n",
       "       [ 1.26371224,  0.09647257,  0.7509196 ,  1.43951363],\n",
       "       [ 0.4321503 , -1.94553021,  0.41133459,  0.38883414],\n",
       "       [-0.04302795, -0.81108422,  0.07174959, -0.00517067],\n",
       "       [ 0.78853399,  0.32336177,  0.7509196 ,  1.04550882],\n",
       "       [-1.23097358, -0.13041663, -1.34318794, -1.44985496],\n",
       "       [-0.39941164,  1.00402937, -1.39978544, -1.31852002],\n",
       "       [-1.11217902,  0.09647257, -1.28659044, -1.44985496],\n",
       "       [-0.87458989,  1.68469696, -1.28659044, -1.18718509],\n",
       "       [ 0.55094486,  0.55025097,  0.5245296 ,  0.52016908],\n",
       "       [ 0.78853399, -0.13041663,  1.14710211,  1.30817869],\n",
       "       [-0.28061708, -1.26486262,  0.07174959, -0.1365056 ],\n",
       "       [-0.16182252, -0.58419502,  0.41133459,  0.12616427],\n",
       "       [ 0.66973943, -0.58419502,  1.0339071 ,  1.30817869],\n",
       "       [-1.34976815,  0.32336177, -1.22999293, -1.31852002],\n",
       "       [ 0.31335574, -0.13041663,  0.6377246 ,  0.78283895],\n",
       "       [-0.99338446,  0.77714017, -1.22999293, -1.05585015]])"
      ]
     },
     "execution_count": 19,
     "metadata": {},
     "output_type": "execute_result"
    }
   ],
   "source": [
    "X_test_scale"
   ]
  },
  {
   "cell_type": "code",
   "execution_count": 20,
   "id": "a380a045",
   "metadata": {},
   "outputs": [],
   "source": [
    "model=GaussianNB()"
   ]
  },
  {
   "cell_type": "code",
   "execution_count": 21,
   "id": "363da999",
   "metadata": {},
   "outputs": [
    {
     "data": {
      "text/plain": [
       "GaussianNB()"
      ]
     },
     "execution_count": 21,
     "metadata": {},
     "output_type": "execute_result"
    }
   ],
   "source": [
    "model.fit(X_train_scale,y_train)"
   ]
  },
  {
   "cell_type": "code",
   "execution_count": 22,
   "id": "ba8945ea",
   "metadata": {},
   "outputs": [],
   "source": [
    "y_pred=model.predict(X_test_scale)"
   ]
  },
  {
   "cell_type": "code",
   "execution_count": 23,
   "id": "c97f6415",
   "metadata": {},
   "outputs": [
    {
     "data": {
      "text/plain": [
       "array(['versicolor', 'setosa', 'virginica', 'versicolor', 'versicolor',\n",
       "       'setosa', 'versicolor', 'virginica', 'versicolor', 'versicolor',\n",
       "       'virginica', 'setosa', 'setosa', 'setosa', 'setosa', 'versicolor',\n",
       "       'virginica', 'versicolor', 'versicolor', 'virginica', 'setosa',\n",
       "       'virginica', 'setosa'], dtype='<U10')"
      ]
     },
     "execution_count": 23,
     "metadata": {},
     "output_type": "execute_result"
    }
   ],
   "source": [
    "y_pred"
   ]
  },
  {
   "cell_type": "code",
   "execution_count": 24,
   "id": "5c1f7484",
   "metadata": {},
   "outputs": [
    {
     "name": "stdout",
     "output_type": "stream",
     "text": [
      "1.0\n"
     ]
    }
   ],
   "source": [
    "print(accuracy_score(y_test,y_pred))"
   ]
  },
  {
   "cell_type": "code",
   "execution_count": 25,
   "id": "968dbb53",
   "metadata": {},
   "outputs": [
    {
     "name": "stdout",
     "output_type": "stream",
     "text": [
      "              precision    recall  f1-score   support\n",
      "\n",
      "      setosa       1.00      1.00      1.00         8\n",
      "  versicolor       1.00      1.00      1.00         9\n",
      "   virginica       1.00      1.00      1.00         6\n",
      "\n",
      "    accuracy                           1.00        23\n",
      "   macro avg       1.00      1.00      1.00        23\n",
      "weighted avg       1.00      1.00      1.00        23\n",
      "\n"
     ]
    }
   ],
   "source": [
    "print(classification_report(y_test,y_pred))"
   ]
  },
  {
   "cell_type": "code",
   "execution_count": 26,
   "id": "41654080",
   "metadata": {},
   "outputs": [],
   "source": [
    "import pickle"
   ]
  },
  {
   "cell_type": "code",
   "execution_count": 27,
   "id": "f2d22d9d",
   "metadata": {},
   "outputs": [],
   "source": [
    "pickle.dump(scale,open(\"scalenaive.pkl\",'wb'))"
   ]
  },
  {
   "cell_type": "code",
   "execution_count": 28,
   "id": "6638e336",
   "metadata": {},
   "outputs": [],
   "source": [
    "pickle.dump(model,open(\"naivebayes.pkl\",'wb'))"
   ]
  },
  {
   "cell_type": "code",
   "execution_count": 38,
   "id": "0d30e8f8",
   "metadata": {},
   "outputs": [
    {
     "data": {
      "text/plain": [
       "<seaborn.axisgrid.JointGrid at 0x111a5b098e0>"
      ]
     },
     "execution_count": 38,
     "metadata": {},
     "output_type": "execute_result"
    },
    {
     "data": {
      "image/png": "[encoded data removed]",
      "text/plain": [
       "<Figure size 600x600 with 3 Axes>"
      ]
     },
     "metadata": {},
     "output_type": "display_data"
    }
   ],
   "source": [
    "import seaborn as sns\n",
    "\n",
    "sns.jointplot(data=df, x='sepal_length', y='sepal_width', hue='species')\n"
   ]
  },
  {
   "cell_type": "code",
   "execution_count": null,
   "id": "82d911ed",
   "metadata": {},
   "outputs": [],
   "source": []
  }
 ],
 "metadata": {
  "kernelspec": {
   "display_name": "Python 3 (ipykernel)",
   "language": "python",
   "name": "python3"
  },
  "language_info": {
   "codemirror_mode": {
    "name": "ipython",
    "version": 3
   },
   "file_extension": ".py",
   "mimetype": "text/x-python",
   "name": "python",
   "nbconvert_exporter": "python",
   "pygments_lexer": "ipython3",
   "version": "3.9.13"
  }
 },
 "nbformat": 4,
 "nbformat_minor": 5
}
